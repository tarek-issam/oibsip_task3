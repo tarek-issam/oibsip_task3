{
 "cells": [
  {
   "cell_type": "markdown",
   "id": "0ba4622b-6d4c-4436-be6e-34ee6cebe464",
   "metadata": {},
   "source": [
    "<h1><b>Importing the necessary Libraries</b></h1>"
   ]
  },
  {
   "cell_type": "code",
   "execution_count": 1,
   "id": "462db2c9-6e39-4950-8102-8227195c7b27",
   "metadata": {},
   "outputs": [],
   "source": [
    "import pandas as pd\n",
    "import numpy as np\n",
    "from sklearn import metrics\n",
    "from sklearn.model_selection import train_test_split\n",
    "from sklearn.tree import DecisionTreeRegressor\n",
    "from sklearn.linear_model import LinearRegression"
   ]
  },
  {
   "cell_type": "markdown",
   "id": "bccdc510-2130-48bd-b693-d06ca0b18360",
   "metadata": {},
   "source": [
    "<h1><b>Exploring the Data</b></h1>"
   ]
  },
  {
   "cell_type": "code",
   "execution_count": 2,
   "id": "a48ff2aa-eb5a-4fa4-a522-76dc6707733c",
   "metadata": {},
   "outputs": [],
   "source": [
    "df = pd.read_csv('car data.csv')"
   ]
  },
  {
   "cell_type": "code",
   "execution_count": 3,
   "id": "4691296b-4242-4413-817f-8d30f57eb710",
   "metadata": {},
   "outputs": [
    {
     "data": {
      "text/html": [
       "<div>\n",
       "<style scoped>\n",
       "    .dataframe tbody tr th:only-of-type {\n",
       "        vertical-align: middle;\n",
       "    }\n",
       "\n",
       "    .dataframe tbody tr th {\n",
       "        vertical-align: top;\n",
       "    }\n",
       "\n",
       "    .dataframe thead th {\n",
       "        text-align: right;\n",
       "    }\n",
       "</style>\n",
       "<table border=\"1\" class=\"dataframe\">\n",
       "  <thead>\n",
       "    <tr style=\"text-align: right;\">\n",
       "      <th></th>\n",
       "      <th>Car_Name</th>\n",
       "      <th>Year</th>\n",
       "      <th>Selling_Price</th>\n",
       "      <th>Present_Price</th>\n",
       "      <th>Driven_kms</th>\n",
       "      <th>Fuel_Type</th>\n",
       "      <th>Selling_type</th>\n",
       "      <th>Transmission</th>\n",
       "      <th>Owner</th>\n",
       "    </tr>\n",
       "  </thead>\n",
       "  <tbody>\n",
       "    <tr>\n",
       "      <th>0</th>\n",
       "      <td>ritz</td>\n",
       "      <td>2014</td>\n",
       "      <td>3.35</td>\n",
       "      <td>5.59</td>\n",
       "      <td>27000</td>\n",
       "      <td>Petrol</td>\n",
       "      <td>Dealer</td>\n",
       "      <td>Manual</td>\n",
       "      <td>0</td>\n",
       "    </tr>\n",
       "    <tr>\n",
       "      <th>1</th>\n",
       "      <td>sx4</td>\n",
       "      <td>2013</td>\n",
       "      <td>4.75</td>\n",
       "      <td>9.54</td>\n",
       "      <td>43000</td>\n",
       "      <td>Diesel</td>\n",
       "      <td>Dealer</td>\n",
       "      <td>Manual</td>\n",
       "      <td>0</td>\n",
       "    </tr>\n",
       "    <tr>\n",
       "      <th>2</th>\n",
       "      <td>ciaz</td>\n",
       "      <td>2017</td>\n",
       "      <td>7.25</td>\n",
       "      <td>9.85</td>\n",
       "      <td>6900</td>\n",
       "      <td>Petrol</td>\n",
       "      <td>Dealer</td>\n",
       "      <td>Manual</td>\n",
       "      <td>0</td>\n",
       "    </tr>\n",
       "    <tr>\n",
       "      <th>3</th>\n",
       "      <td>wagon r</td>\n",
       "      <td>2011</td>\n",
       "      <td>2.85</td>\n",
       "      <td>4.15</td>\n",
       "      <td>5200</td>\n",
       "      <td>Petrol</td>\n",
       "      <td>Dealer</td>\n",
       "      <td>Manual</td>\n",
       "      <td>0</td>\n",
       "    </tr>\n",
       "    <tr>\n",
       "      <th>4</th>\n",
       "      <td>swift</td>\n",
       "      <td>2014</td>\n",
       "      <td>4.60</td>\n",
       "      <td>6.87</td>\n",
       "      <td>42450</td>\n",
       "      <td>Diesel</td>\n",
       "      <td>Dealer</td>\n",
       "      <td>Manual</td>\n",
       "      <td>0</td>\n",
       "    </tr>\n",
       "  </tbody>\n",
       "</table>\n",
       "</div>"
      ],
      "text/plain": [
       "  Car_Name  Year  Selling_Price  Present_Price  Driven_kms Fuel_Type  \\\n",
       "0     ritz  2014           3.35           5.59       27000    Petrol   \n",
       "1      sx4  2013           4.75           9.54       43000    Diesel   \n",
       "2     ciaz  2017           7.25           9.85        6900    Petrol   \n",
       "3  wagon r  2011           2.85           4.15        5200    Petrol   \n",
       "4    swift  2014           4.60           6.87       42450    Diesel   \n",
       "\n",
       "  Selling_type Transmission  Owner  \n",
       "0       Dealer       Manual      0  \n",
       "1       Dealer       Manual      0  \n",
       "2       Dealer       Manual      0  \n",
       "3       Dealer       Manual      0  \n",
       "4       Dealer       Manual      0  "
      ]
     },
     "execution_count": 3,
     "metadata": {},
     "output_type": "execute_result"
    }
   ],
   "source": [
    "df.head()"
   ]
  },
  {
   "cell_type": "code",
   "execution_count": 4,
   "id": "1acbb1fc-9cb4-4405-9905-e579c6665f61",
   "metadata": {},
   "outputs": [
    {
     "data": {
      "text/plain": [
       "Car_Name         False\n",
       "Year             False\n",
       "Selling_Price    False\n",
       "Present_Price    False\n",
       "Driven_kms       False\n",
       "Fuel_Type        False\n",
       "Selling_type     False\n",
       "Transmission     False\n",
       "Owner            False\n",
       "dtype: bool"
      ]
     },
     "execution_count": 4,
     "metadata": {},
     "output_type": "execute_result"
    }
   ],
   "source": [
    "df.isnull().any()"
   ]
  },
  {
   "cell_type": "code",
   "execution_count": 5,
   "id": "d30718b3-41f2-4f76-9ee5-108f24fc5ca6",
   "metadata": {},
   "outputs": [
    {
     "data": {
      "text/plain": [
       "(301, 9)"
      ]
     },
     "execution_count": 5,
     "metadata": {},
     "output_type": "execute_result"
    }
   ],
   "source": [
    "df.shape"
   ]
  },
  {
   "cell_type": "code",
   "execution_count": 6,
   "id": "1e37140b-f137-4899-aad0-cb76a640daa5",
   "metadata": {},
   "outputs": [],
   "source": [
    "X = df[['Car_Name', 'Year', 'Present_Price', 'Driven_kms',\n",
    "       'Fuel_Type', 'Selling_type', 'Transmission', 'Owner']]"
   ]
  },
  {
   "cell_type": "code",
   "execution_count": 7,
   "id": "6e6a9184-c679-4043-940b-398a1686aa0f",
   "metadata": {},
   "outputs": [
    {
     "data": {
      "text/plain": [
       "Index(['Car_Name', 'Year', 'Selling_Price', 'Present_Price', 'Driven_kms',\n",
       "       'Fuel_Type', 'Selling_type', 'Transmission', 'Owner'],\n",
       "      dtype='object')"
      ]
     },
     "execution_count": 7,
     "metadata": {},
     "output_type": "execute_result"
    }
   ],
   "source": [
    "df.columns"
   ]
  },
  {
   "cell_type": "code",
   "execution_count": 8,
   "id": "c3a1d87f-92ab-4596-a06f-5c52886ff526",
   "metadata": {},
   "outputs": [],
   "source": [
    "y = df[['Selling_Price']]"
   ]
  },
  {
   "cell_type": "code",
   "execution_count": 9,
   "id": "f0520410-b354-4186-95c9-da06879e58cd",
   "metadata": {},
   "outputs": [],
   "source": [
    "X_train, X_valid, y_train, y_valid = train_test_split(X, y,\n",
    "                                                      train_size=0.8, test_size=0.2,\n",
    "                                                      random_state=0)"
   ]
  },
  {
   "cell_type": "markdown",
   "id": "2f2e3c1c-3e52-41ae-87b3-1b832deb1028",
   "metadata": {},
   "source": [
    "<h1><b>Encoding Categorical Variables</b></h1>"
   ]
  },
  {
   "cell_type": "markdown",
   "id": "d5438ffb-4380-43d1-9e87-a318b7778680",
   "metadata": {},
   "source": [
    "<p>here i first checked if the same categories found in the train set are in the test set to avoid errors while testing the model</p>"
   ]
  },
  {
   "cell_type": "code",
   "execution_count": 10,
   "id": "c333f43c-4a13-48f9-b14c-b4243aaa60d1",
   "metadata": {},
   "outputs": [
    {
     "name": "stdout",
     "output_type": "stream",
     "text": [
      "Categorical columns that will be ordinal encoded: ['Fuel_Type', 'Selling_type', 'Transmission']\n",
      "\n",
      "Categorical columns that will be dropped from the dataset: ['Car_Name']\n"
     ]
    }
   ],
   "source": [
    "# Categorical columns in the training data\n",
    "object_cols = [col for col in X_train.columns if X_train[col].dtype == \"object\"]\n",
    "\n",
    "# Columns that can be safely ordinal encoded\n",
    "good_label_cols = [col for col in object_cols if \n",
    "                   set(X_valid[col]).issubset(set(X_train[col]))]\n",
    "        \n",
    "# Problematic columns that will be dropped from the dataset\n",
    "bad_label_cols = list(set(object_cols)-set(good_label_cols))\n",
    "        \n",
    "print('Categorical columns that will be ordinal encoded:', good_label_cols)\n",
    "print('\\nCategorical columns that will be dropped from the dataset:', bad_label_cols)"
   ]
  },
  {
   "cell_type": "code",
   "execution_count": 11,
   "id": "6b930c28-df4d-4d2b-af76-4aad9b0c3d9f",
   "metadata": {},
   "outputs": [],
   "source": [
    "from sklearn.preprocessing import OrdinalEncoder\n",
    "\n",
    "\n",
    "label_X_train = X_train.drop(bad_label_cols, axis=1)\n",
    "label_X_valid = X_valid.drop(bad_label_cols, axis=1)\n",
    "\n",
    "ordinal_encoder = OrdinalEncoder()\n",
    "label_X_train[good_label_cols] = ordinal_encoder.fit_transform(X_train[good_label_cols])\n",
    "label_X_valid[good_label_cols] = ordinal_encoder.transform(X_valid[good_label_cols])"
   ]
  },
  {
   "cell_type": "code",
   "execution_count": 12,
   "id": "a329b1ef-5733-4857-b517-b33b949e52ad",
   "metadata": {},
   "outputs": [
    {
     "name": "stdout",
     "output_type": "stream",
     "text": [
      "(240, 7)\n",
      "(61, 7)\n"
     ]
    }
   ],
   "source": [
    "print(label_X_train.shape)\n",
    "print(label_X_valid.shape)"
   ]
  },
  {
   "cell_type": "markdown",
   "id": "7ea9b145-beda-48fb-9197-ad037968109b",
   "metadata": {},
   "source": [
    "<h1><b>Fitting the Dataset with two models : Linear Regression and Decision Tree </b></h1>"
   ]
  },
  {
   "cell_type": "code",
   "execution_count": 13,
   "id": "b8542611-5c9d-4d7e-b38a-e0a087883ca4",
   "metadata": {},
   "outputs": [],
   "source": [
    "linreg = LinearRegression()\n",
    "linreg.fit(label_X_train,y_train)\n",
    "y_pred_lin = linreg.predict(label_X_valid)"
   ]
  },
  {
   "cell_type": "code",
   "execution_count": 14,
   "id": "c9452266-34be-4f30-99ad-4203811ed1d5",
   "metadata": {},
   "outputs": [
    {
     "name": "stdout",
     "output_type": "stream",
     "text": [
      "1.000153282352626\n"
     ]
    }
   ],
   "source": [
    "print (metrics.mean_absolute_error(y_valid,y_pred_lin))"
   ]
  },
  {
   "cell_type": "markdown",
   "id": "60584775-037d-4387-87a1-7b8775eb6e92",
   "metadata": {},
   "source": [
    "<h1><b>Tuning the max_leaf_node parameter in the Decision Tree to see the MAE results</b></h1>"
   ]
  },
  {
   "cell_type": "code",
   "execution_count": 15,
   "id": "7e8d195b-5b83-496f-9d31-bd218e929cd3",
   "metadata": {},
   "outputs": [],
   "source": [
    "def get_mae(max_leaf_nodes, train_X, val_X, train_y, val_y):\n",
    "    model = DecisionTreeRegressor(max_leaf_nodes=max_leaf_nodes, random_state=0)\n",
    "    model.fit(train_X, train_y)\n",
    "    preds_val = model.predict(val_X)\n",
    "    mae = metrics.mean_absolute_error(val_y, preds_val)\n",
    "    return(mae)"
   ]
  },
  {
   "cell_type": "code",
   "execution_count": 16,
   "id": "5b76e564-7238-43f2-960d-28fb1220b331",
   "metadata": {},
   "outputs": [
    {
     "name": "stdout",
     "output_type": "stream",
     "text": [
      "the mae for 5 is : 1.6149702295559505\n",
      "the mae for 25 is : 0.6848462705758134\n",
      "the mae for 50 is : 0.7408738762559494\n",
      "the mae for 100 is : 0.6957883317261329\n",
      "the mae for 250 is : 0.7095081967213114\n",
      "the mae for 500 is : 0.7095081967213114\n",
      "[[5, 1.6149702295559505], [25, 0.6848462705758134], [50, 0.7408738762559494], [100, 0.6957883317261329], [250, 0.7095081967213114], [500, 0.7095081967213114]]\n",
      "the best tree size is : 25\n"
     ]
    }
   ],
   "source": [
    "candidate_max_leaf_nodes = [5, 25, 50, 100, 250, 500]\n",
    "arr = []\n",
    "\n",
    "for c in candidate_max_leaf_nodes :\n",
    "    mae = get_mae(c,label_X_train, label_X_valid, y_train, y_valid)\n",
    "    print(\"the mae for \" + str(c) + \" is : \" + str(mae))\n",
    "    arr.append([c,mae])\n",
    "\n",
    "print(arr)\n",
    "\n",
    "best_tree_size = min(arr, key=lambda x: x[1])[0]\n",
    "print(\"the best tree size is : \" + str(best_tree_size))\n"
   ]
  },
  {
   "cell_type": "markdown",
   "id": "e5039b89-8707-4c88-934d-4d57f6518885",
   "metadata": {},
   "source": [
    "<h1><b>plotting the different MAE's for different max_leaf_nodes</b></h1>"
   ]
  },
  {
   "cell_type": "code",
   "execution_count": 17,
   "id": "44618eba-572b-4496-b385-6df56080e229",
   "metadata": {},
   "outputs": [],
   "source": [
    "results = {}\n",
    "for i in candidate_max_leaf_nodes:\n",
    "    results[i] = get_mae(i,label_X_train, label_X_valid, y_train, y_valid)"
   ]
  },
  {
   "cell_type": "code",
   "execution_count": 18,
   "id": "2cb61842-f01a-4784-95c1-3a476131d28c",
   "metadata": {},
   "outputs": [
    {
     "data": {
      "image/png": "[encoded data removed]",
      "text/plain": [
       "<Figure size 640x480 with 1 Axes>"
      ]
     },
     "metadata": {},
     "output_type": "display_data"
    }
   ],
   "source": [
    "import matplotlib.pyplot as plt\n",
    "%matplotlib inline\n",
    "\n",
    "plt.plot(list(results.keys()), list(results.values()))\n",
    "plt.show()"
   ]
  }
 ],
 "metadata": {
  "kernelspec": {
   "display_name": "Python 3 (ipykernel)",
   "language": "python",
   "name": "python3"
  },
  "language_info": {
   "codemirror_mode": {
    "name": "ipython",
    "version": 3
   },
   "file_extension": ".py",
   "mimetype": "text/x-python",
   "name": "python",
   "nbconvert_exporter": "python",
   "pygments_lexer": "ipython3",
   "version": "3.11.5"
  }
 },
 "nbformat": 4,
 "nbformat_minor": 5
}
